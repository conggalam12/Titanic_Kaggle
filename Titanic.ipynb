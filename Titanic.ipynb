{
  "nbformat": 4,
  "nbformat_minor": 0,
  "metadata": {
    "colab": {
      "provenance": []
    },
    "kernelspec": {
      "name": "python3",
      "display_name": "Python 3"
    },
    "language_info": {
      "name": "python"
    }
  },
  "cells": [
    {
      "cell_type": "markdown",
      "source": [
        "# 1.Connect Google colab with drive"
      ],
      "metadata": {
        "id": "PBD6Xvx82Pg_"
      }
    },
    {
      "cell_type": "code",
      "execution_count": null,
      "metadata": {
        "colab": {
          "base_uri": "https://localhost:8080/"
        },
        "id": "acVgAzR70XXH",
        "outputId": "3a7789a9-b244-4474-84ad-3d65cf3c1739"
      },
      "outputs": [
        {
          "output_type": "stream",
          "name": "stdout",
          "text": [
            "Mounted at /content/gdrive\n"
          ]
        }
      ],
      "source": [
        "from google.colab import drive\n",
        "drive.mount('/content/gdrive')"
      ]
    },
    {
      "cell_type": "markdown",
      "source": [
        "# 2.Import dictionary and Feature Engineering\n"
      ],
      "metadata": {
        "id": "uQyci0SJ2qUm"
      }
    },
    {
      "cell_type": "code",
      "source": [
        "import numpy as np\n",
        "import pandas as pd\n",
        "import matplotlib.pyplot as plt\n",
        "import math\n",
        "import tqdm as tqdm\n",
        "train = pd.read_csv('/content/gdrive/MyDrive/Data_Titanic/train.csv')\n",
        "test = pd.read_csv('/content/gdrive/MyDrive/Data_Titanic/test.csv')\n",
        "def Feature_Engineering(data):\n",
        "  # remove the column does not necessary\n",
        "  data = data.drop('Name',axis =1)\n",
        "  data = data.drop('Ticket',axis =1)\n",
        "  data = data.drop('Cabin',axis =1)\n",
        "  data = data.drop('PassengerId',axis = 1)\n",
        "\n",
        "  #remove Nan value and replace by 0\n",
        "  data.fillna(value = 0, inplace = True)\n",
        "\n",
        "  # encode \n",
        "  for i in range(0,len(data['Sex'])):\n",
        "    if data['Sex'][i] == 'male':\n",
        "      data['Sex'][i] = 1\n",
        "    else :\n",
        "      data['Sex'][i] = 0\n",
        "\n",
        "  Embarked_encode = list(dict.fromkeys(data['Embarked']))\n",
        "  # Embarked_encode = ['S', 'C', 'Q', 0]\n",
        "  for i in range(0,len(data['Embarked'])):\n",
        "    if  data['Embarked'][i] == 'S':\n",
        "      data['Embarked'][i] = 1\n",
        "    elif data['Embarked'][i] == 'C':\n",
        "      data['Embarked'][i] = 2\n",
        "    elif data['Embarked'][i] == 'Q':\n",
        "      data['Embarked'][i] = 3\n",
        "    else:\n",
        "      data['Embarked'][i] = 4\n",
        "  return data\n",
        "train_code = Feature_Engineering(train)\n",
        "print(train_code.shape)\n",
        "test_code = Feature_Engineering(test)"
      ],
      "metadata": {
        "id": "MbplN2js2hPH"
      },
      "execution_count": null,
      "outputs": []
    },
    {
      "cell_type": "markdown",
      "source": [
        "# 3.Linear Regression\n",
        "\n",
        "\n",
        "\n"
      ],
      "metadata": {
        "id": "7hLX6aSxLR6q"
      }
    },
    {
      "cell_type": "code",
      "source": [
        "def linear(X,Y):\n",
        "  T = np.dot(X.T,X)\n",
        "  inv1 = np.linalg.inv(T)\n",
        "  V = np.dot(inv1,X.T)\n",
        "  W = np.dot(V,Y)\n",
        "  return W\n",
        "# test\n",
        "X = np.array([[1,2,3],[4,5,6],[7,8,9]])\n",
        "Y = np.array([2,3,4])\n",
        "print(linear(X,Y))"
      ],
      "metadata": {
        "colab": {
          "base_uri": "https://localhost:8080/"
        },
        "id": "RDxye25MGHoR",
        "outputId": "a935ca8f-8fd7-41bb-854d-632d89badf8e"
      },
      "execution_count": 23,
      "outputs": [
        {
          "output_type": "stream",
          "name": "stdout",
          "text": [
            "[-0.96875  0.       1.     ]\n"
          ]
        }
      ]
    },
    {
      "cell_type": "markdown",
      "source": [
        "# 4.Extract Feature"
      ],
      "metadata": {
        "id": "d6WnpTaGR1nM"
      }
    },
    {
      "cell_type": "code",
      "source": [
        "def extract_feature(train):\n",
        "  train_x = train.drop('Fare',axis = 1)\n",
        "  data_train = np.array(train_x,dtype = int)\n",
        "  # add bias\n",
        "  data_train = np.insert(data_train,0,1,axis = 1)\n",
        "  return data_train\n",
        "X = extract_feature(train_code)\n",
        "print(X.shape)\n",
        "\n"
      ],
      "metadata": {
        "id": "CnswSGRmRz0M",
        "colab": {
          "base_uri": "https://localhost:8080/"
        },
        "outputId": "11d586ed-b571-4127-9d16-1dfd5ce9f934"
      },
      "execution_count": 43,
      "outputs": [
        {
          "output_type": "stream",
          "name": "stdout",
          "text": [
            "(891, 8)\n"
          ]
        }
      ]
    },
    {
      "cell_type": "markdown",
      "source": [
        "# 5.Train model"
      ],
      "metadata": {
        "id": "Ys18KnPtVs4b"
      }
    },
    {
      "cell_type": "code",
      "source": [
        "Y = np.array(train_code['Fare'])\n",
        "#print(Y.dtype)\n",
        "W = linear(X,Y)\n",
        "print(W.dtype)\n"
      ],
      "metadata": {
        "colab": {
          "base_uri": "https://localhost:8080/"
        },
        "id": "_VDR26skIz8k",
        "outputId": "55bd2198-40e5-4658-8fd7-3ef6786151dc"
      },
      "execution_count": 39,
      "outputs": [
        {
          "output_type": "stream",
          "name": "stdout",
          "text": [
            "float64\n"
          ]
        }
      ]
    },
    {
      "cell_type": "markdown",
      "source": [
        "# 6.Test model\n"
      ],
      "metadata": {
        "id": "juZ4xNPyM2Tp"
      }
    },
    {
      "cell_type": "code",
      "source": [
        "X_test = extract_feature(test_code)\n",
        "Y_test = np.array(test_code['Fare'])\n",
        "print(X_test.shape)"
      ],
      "metadata": {
        "colab": {
          "base_uri": "https://localhost:8080/"
        },
        "id": "wtqKjD4_M9YJ",
        "outputId": "70e5267a-b7e7-4e06-c0df-7f855bcf21ce"
      },
      "execution_count": 41,
      "outputs": [
        {
          "output_type": "stream",
          "name": "stdout",
          "text": [
            "(418, 7)\n"
          ]
        }
      ]
    }
  ]
}